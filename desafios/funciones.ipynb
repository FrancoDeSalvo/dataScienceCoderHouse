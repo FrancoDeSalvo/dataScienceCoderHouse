{
 "cells": [
  {
   "cell_type": "markdown",
   "id": "758b1bcc",
   "metadata": {},
   "source": [
    "# 1) Factorial"
   ]
  },
  {
   "cell_type": "code",
   "execution_count": 8,
   "id": "b117afcc",
   "metadata": {},
   "outputs": [],
   "source": [
    "def factorial(n):\n",
    "    factorial = 1 \n",
    "    for f in range(2, n + 1):\n",
    "        factorial *= f\n",
    "    return factorial"
   ]
  },
  {
   "cell_type": "code",
   "execution_count": 9,
   "id": "8f37bc87",
   "metadata": {},
   "outputs": [
    {
     "data": {
      "text/plain": [
       "24"
      ]
     },
     "execution_count": 9,
     "metadata": {},
     "output_type": "execute_result"
    }
   ],
   "source": [
    "factorial(4)"
   ]
  },
  {
   "cell_type": "code",
   "execution_count": 10,
   "id": "04aa1fa8",
   "metadata": {},
   "outputs": [
    {
     "data": {
      "text/plain": [
       "720"
      ]
     },
     "execution_count": 10,
     "metadata": {},
     "output_type": "execute_result"
    }
   ],
   "source": [
    "factorial(6)"
   ]
  },
  {
   "cell_type": "markdown",
   "id": "0c802b98",
   "metadata": {},
   "source": [
    "## 2) Suma de un rango"
   ]
  },
  {
   "cell_type": "code",
   "execution_count": 11,
   "id": "f70de6c6",
   "metadata": {},
   "outputs": [],
   "source": [
    "def sumaRango(num1, num2):\n",
    "    if(num1 < num2):\n",
    "        x = sum(list(range(num1, num2 + 1)))\n",
    "    else: \n",
    "        x = \"El segundo número debe ser mayor al primero\"\n",
    "    return x "
   ]
  },
  {
   "cell_type": "code",
   "execution_count": 12,
   "id": "9773342b",
   "metadata": {},
   "outputs": [
    {
     "data": {
      "text/plain": [
       "54"
      ]
     },
     "execution_count": 12,
     "metadata": {},
     "output_type": "execute_result"
    }
   ],
   "source": [
    "sumaRango(2,10)"
   ]
  },
  {
   "cell_type": "code",
   "execution_count": 13,
   "id": "c946be94",
   "metadata": {},
   "outputs": [
    {
     "data": {
      "text/plain": [
       "'El segundo número debe ser mayor al primero'"
      ]
     },
     "execution_count": 13,
     "metadata": {},
     "output_type": "execute_result"
    }
   ],
   "source": [
    "sumaRango(6,4)"
   ]
  }
 ],
 "metadata": {
  "kernelspec": {
   "display_name": "Python 3",
   "language": "python",
   "name": "python3"
  },
  "language_info": {
   "codemirror_mode": {
    "name": "ipython",
    "version": 3
   },
   "file_extension": ".py",
   "mimetype": "text/x-python",
   "name": "python",
   "nbconvert_exporter": "python",
   "pygments_lexer": "ipython3",
   "version": "3.9.4"
  }
 },
 "nbformat": 4,
 "nbformat_minor": 5
}
