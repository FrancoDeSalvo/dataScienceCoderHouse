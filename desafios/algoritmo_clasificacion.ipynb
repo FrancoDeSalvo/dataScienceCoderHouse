{
 "cells": [
  {
   "cell_type": "markdown",
   "id": "3ea2f92b",
   "metadata": {},
   "source": [
    "#### Utilice un dataset distinto debido a que el objetivo de nuestro proyecto final no se ajusta a un problema de clasificacion\n",
    "dataset: https://drive.google.com/drive/folders/1W2sTsbaZz3x398IL6_MJ_NqzLBvKwwve?usp=sharing"
   ]
  },
  {
   "cell_type": "markdown",
   "id": "3684c59a",
   "metadata": {},
   "source": [
    "# KNN calsificador de posibles deudores"
   ]
  },
  {
   "cell_type": "code",
   "execution_count": 213,
   "id": "2ff0d324",
   "metadata": {},
   "outputs": [],
   "source": [
    "import pandas as pd\n",
    "import numpy as np\n",
    "import matplotlib.pyplot as plt\n",
    "from sklearn import preprocessing\n",
    "from sklearn.neighbors import KNeighborsClassifier"
   ]
  },
  {
   "cell_type": "code",
   "execution_count": 214,
   "id": "c197f0e6",
   "metadata": {},
   "outputs": [
    {
     "data": {
      "text/html": [
       "<div>\n",
       "<style scoped>\n",
       "    .dataframe tbody tr th:only-of-type {\n",
       "        vertical-align: middle;\n",
       "    }\n",
       "\n",
       "    .dataframe tbody tr th {\n",
       "        vertical-align: top;\n",
       "    }\n",
       "\n",
       "    .dataframe thead th {\n",
       "        text-align: right;\n",
       "    }\n",
       "</style>\n",
       "<table border=\"1\" class=\"dataframe\">\n",
       "  <thead>\n",
       "    <tr style=\"text-align: right;\">\n",
       "      <th></th>\n",
       "      <th>edad</th>\n",
       "      <th>credito</th>\n",
       "      <th>cumplio</th>\n",
       "    </tr>\n",
       "  </thead>\n",
       "  <tbody>\n",
       "    <tr>\n",
       "      <th>0</th>\n",
       "      <td>18</td>\n",
       "      <td>363112</td>\n",
       "      <td>0</td>\n",
       "    </tr>\n",
       "    <tr>\n",
       "      <th>1</th>\n",
       "      <td>19</td>\n",
       "      <td>477965</td>\n",
       "      <td>1</td>\n",
       "    </tr>\n",
       "    <tr>\n",
       "      <th>2</th>\n",
       "      <td>20</td>\n",
       "      <td>239072</td>\n",
       "      <td>0</td>\n",
       "    </tr>\n",
       "    <tr>\n",
       "      <th>3</th>\n",
       "      <td>22</td>\n",
       "      <td>195265</td>\n",
       "      <td>0</td>\n",
       "    </tr>\n",
       "    <tr>\n",
       "      <th>4</th>\n",
       "      <td>22</td>\n",
       "      <td>482174</td>\n",
       "      <td>0</td>\n",
       "    </tr>\n",
       "  </tbody>\n",
       "</table>\n",
       "</div>"
      ],
      "text/plain": [
       "   edad  credito  cumplio\n",
       "0    18   363112        0\n",
       "1    19   477965        1\n",
       "2    20   239072        0\n",
       "3    22   195265        0\n",
       "4    22   482174        0"
      ]
     },
     "execution_count": 214,
     "metadata": {},
     "output_type": "execute_result"
    }
   ],
   "source": [
    "clientes = pd.read_csv(\"creditos.csv\")\n",
    "clientes.head()"
   ]
  },
  {
   "cell_type": "code",
   "execution_count": 215,
   "id": "119724bd",
   "metadata": {},
   "outputs": [
    {
     "data": {
      "text/html": [
       "<div>\n",
       "<style scoped>\n",
       "    .dataframe tbody tr th:only-of-type {\n",
       "        vertical-align: middle;\n",
       "    }\n",
       "\n",
       "    .dataframe tbody tr th {\n",
       "        vertical-align: top;\n",
       "    }\n",
       "\n",
       "    .dataframe thead th {\n",
       "        text-align: right;\n",
       "    }\n",
       "</style>\n",
       "<table border=\"1\" class=\"dataframe\">\n",
       "  <thead>\n",
       "    <tr style=\"text-align: right;\">\n",
       "      <th></th>\n",
       "      <th>edad</th>\n",
       "      <th>credito</th>\n",
       "      <th>cumplio</th>\n",
       "    </tr>\n",
       "  </thead>\n",
       "  <tbody>\n",
       "    <tr>\n",
       "      <th>1</th>\n",
       "      <td>19</td>\n",
       "      <td>477965</td>\n",
       "      <td>1</td>\n",
       "    </tr>\n",
       "    <tr>\n",
       "      <th>6</th>\n",
       "      <td>23</td>\n",
       "      <td>583565</td>\n",
       "      <td>1</td>\n",
       "    </tr>\n",
       "    <tr>\n",
       "      <th>7</th>\n",
       "      <td>24</td>\n",
       "      <td>100000</td>\n",
       "      <td>1</td>\n",
       "    </tr>\n",
       "    <tr>\n",
       "      <th>8</th>\n",
       "      <td>24</td>\n",
       "      <td>199272</td>\n",
       "      <td>1</td>\n",
       "    </tr>\n",
       "    <tr>\n",
       "      <th>13</th>\n",
       "      <td>25</td>\n",
       "      <td>195341</td>\n",
       "      <td>1</td>\n",
       "    </tr>\n",
       "  </tbody>\n",
       "</table>\n",
       "</div>"
      ],
      "text/plain": [
       "    edad  credito  cumplio\n",
       "1     19   477965        1\n",
       "6     23   583565        1\n",
       "7     24   100000        1\n",
       "8     24   199272        1\n",
       "13    25   195341        1"
      ]
     },
     "execution_count": 215,
     "metadata": {},
     "output_type": "execute_result"
    }
   ],
   "source": [
    "df_clientes_cumplieron = clientes[clientes[\"cumplio\"]==1]\n",
    "df_clientes_morosos = clientes[clientes[\"cumplio\"]==0]\n",
    "df_clientes_cumplieron.head()"
   ]
  },
  {
   "cell_type": "code",
   "execution_count": 216,
   "id": "36133579",
   "metadata": {},
   "outputs": [
    {
     "data": {
      "image/png": "[encoded data removed]",
      "text/plain": [
       "<Figure size 432x288 with 1 Axes>"
      ]
     },
     "metadata": {
      "needs_background": "light"
     },
     "output_type": "display_data"
    }
   ],
   "source": [
    "plt.scatter(df_clientes_cumplieron[\"edad\"], df_clientes_cumplieron[\"credito\"],\n",
    "            label=\"Pagó (1)\")\n",
    "\n",
    "plt.scatter(df_clientes_morosos[\"edad\"], df_clientes_morosos[\"credito\"],\n",
    "            label=\"No pagó (0)\")\n",
    "\n",
    "plt.ylabel(\"Monto del crédito\")\n",
    "plt.xlabel(\"Edad\")\n",
    "plt.legend(bbox_to_anchor=(1, 0.2)) \n",
    "plt.show()"
   ]
  },
  {
   "cell_type": "code",
   "execution_count": 265,
   "id": "f28d7a42",
   "metadata": {},
   "outputs": [],
   "source": [
    "data = clientes[[\"edad\", \"credito\"]]\n",
    "clase = clientes[\"cumplio\"]"
   ]
  },
  {
   "cell_type": "code",
   "execution_count": 266,
   "id": "82ffd3b1",
   "metadata": {},
   "outputs": [
    {
     "data": {
      "text/plain": [
       "array([[0.        , 0.52964444],\n",
       "       [0.02564103, 0.76084353],\n",
       "       [0.05128205, 0.27995193],\n",
       "       [0.1025641 , 0.19176844],\n",
       "       [0.1025641 , 0.76931624],\n",
       "       [0.12820513, 0.74242458],\n",
       "       [0.12820513, 0.97341632],\n",
       "       [0.15384615, 0.        ],\n",
       "       [0.15384615, 0.19983453],\n",
       "       [0.15384615, 0.29429053],\n",
       "       [0.15384615, 0.67122276],\n",
       "       [0.17948718, 0.        ],\n",
       "       [0.17948718, 0.12374716],\n",
       "       [0.17948718, 0.19192143],\n",
       "       [0.17948718, 0.76130249],\n",
       "       [0.17948718, 0.79673129],\n",
       "       [0.20512821, 0.        ],\n",
       "       [0.20512821, 0.21862589],\n",
       "       [0.20512821, 0.33577846],\n",
       "       [0.20512821, 0.35571521],\n",
       "       [0.20512821, 0.38628463],\n",
       "       [0.20512821, 0.61926119],\n",
       "       [0.20512821, 0.69480706],\n",
       "       [0.23076923, 0.21664509],\n",
       "       [0.23076923, 0.23805134],\n",
       "       [0.23076923, 0.60140789],\n",
       "       [0.23076923, 0.90058196],\n",
       "       [0.25641026, 0.        ],\n",
       "       [0.25641026, 0.03816245],\n",
       "       [0.25641026, 0.03904616],\n",
       "       [0.25641026, 0.10798336],\n",
       "       [0.25641026, 0.17607107],\n",
       "       [0.25641026, 0.28867627],\n",
       "       [0.25641026, 0.32202564],\n",
       "       [0.25641026, 0.3484986 ],\n",
       "       [0.25641026, 0.35193882],\n",
       "       [0.25641026, 0.38080524],\n",
       "       [0.25641026, 0.42070089],\n",
       "       [0.25641026, 0.51803547],\n",
       "       [0.25641026, 0.65311582],\n",
       "       [0.25641026, 0.66896618],\n",
       "       [0.25641026, 0.67041756],\n",
       "       [0.25641026, 0.68417239],\n",
       "       [0.25641026, 0.7695256 ],\n",
       "       [0.25641026, 0.86175924],\n",
       "       [0.28205128, 0.        ],\n",
       "       [0.28205128, 0.        ],\n",
       "       [0.28205128, 0.23669256],\n",
       "       [0.28205128, 0.33414591],\n",
       "       [0.28205128, 0.41334538],\n",
       "       [0.28205128, 0.52864197],\n",
       "       [0.28205128, 0.56609383],\n",
       "       [0.28205128, 0.59165692],\n",
       "       [0.28205128, 0.9871631 ],\n",
       "       [0.28205128, 0.99844194],\n",
       "       [0.30769231, 0.10506249],\n",
       "       [0.30769231, 0.11505704],\n",
       "       [0.30769231, 0.23968187],\n",
       "       [0.30769231, 0.46505734],\n",
       "       [0.30769231, 0.5445809 ],\n",
       "       [0.30769231, 0.66118393],\n",
       "       [0.30769231, 0.67767643],\n",
       "       [0.33333333, 0.        ],\n",
       "       [0.33333333, 0.00144131],\n",
       "       [0.33333333, 0.14846277],\n",
       "       [0.33333333, 0.15601555],\n",
       "       [0.33333333, 0.41040238],\n",
       "       [0.33333333, 0.41226239],\n",
       "       [0.33333333, 0.58786242],\n",
       "       [0.33333333, 0.62965431],\n",
       "       [0.35897436, 0.        ],\n",
       "       [0.35897436, 0.13110669],\n",
       "       [0.35897436, 0.14760926],\n",
       "       [0.35897436, 0.1842056 ],\n",
       "       [0.35897436, 0.19186104],\n",
       "       [0.35897436, 0.26212078],\n",
       "       [0.35897436, 0.46707034],\n",
       "       [0.35897436, 0.49443909],\n",
       "       [0.35897436, 0.98325989],\n",
       "       [0.38461538, 0.00194858],\n",
       "       [0.38461538, 0.08159293],\n",
       "       [0.38461538, 0.18069291],\n",
       "       [0.38461538, 0.5175745 ],\n",
       "       [0.38461538, 0.6179004 ],\n",
       "       [0.41025641, 0.1938217 ],\n",
       "       [0.41025641, 0.31511099],\n",
       "       [0.41025641, 0.35138525],\n",
       "       [0.41025641, 0.51919899],\n",
       "       [0.41025641, 0.5375656 ],\n",
       "       [0.43589744, 0.        ],\n",
       "       [0.43589744, 0.1428928 ],\n",
       "       [0.43589744, 0.15645237],\n",
       "       [0.43589744, 0.40213901],\n",
       "       [0.43589744, 0.84784941],\n",
       "       [0.46153846, 0.        ],\n",
       "       [0.46153846, 0.01688706],\n",
       "       [0.46153846, 0.27926147],\n",
       "       [0.46153846, 0.94219067],\n",
       "       [0.48717949, 0.40089699],\n",
       "       [0.48717949, 0.58110477],\n",
       "       [0.51282051, 0.        ],\n",
       "       [0.51282051, 0.14469846],\n",
       "       [0.51282051, 0.15542171],\n",
       "       [0.51282051, 0.34177518],\n",
       "       [0.51282051, 0.36099531],\n",
       "       [0.51282051, 0.47841359],\n",
       "       [0.51282051, 0.76446894],\n",
       "       [0.53846154, 0.11912129],\n",
       "       [0.53846154, 0.13935999],\n",
       "       [0.53846154, 0.20150331],\n",
       "       [0.53846154, 0.41053926],\n",
       "       [0.53846154, 0.56211212],\n",
       "       [0.56410256, 0.        ],\n",
       "       [0.56410256, 0.        ],\n",
       "       [0.56410256, 0.06082279],\n",
       "       [0.56410256, 0.08730783],\n",
       "       [0.56410256, 0.4086088 ],\n",
       "       [0.56410256, 0.54189355],\n",
       "       [0.56410256, 0.72462765],\n",
       "       [0.58974359, 0.0233508 ],\n",
       "       [0.58974359, 0.02456061],\n",
       "       [0.58974359, 0.09865713],\n",
       "       [0.58974359, 0.25586236],\n",
       "       [0.58974359, 0.33618911],\n",
       "       [0.58974359, 0.58974054],\n",
       "       [0.61538462, 0.        ],\n",
       "       [0.61538462, 0.01820557],\n",
       "       [0.61538462, 0.04190865],\n",
       "       [0.61538462, 0.1276242 ],\n",
       "       [0.61538462, 0.5212603 ],\n",
       "       [0.61538462, 0.54850424],\n",
       "       [0.61538462, 0.84706032],\n",
       "       [0.61538462, 0.91333029],\n",
       "       [0.64102564, 0.55489954],\n",
       "       [0.64102564, 0.63549201],\n",
       "       [0.64102564, 0.80180808],\n",
       "       [0.66666667, 0.        ],\n",
       "       [0.66666667, 0.15576191],\n",
       "       [0.66666667, 0.18310248],\n",
       "       [0.66666667, 0.27592996],\n",
       "       [0.66666667, 0.3173736 ],\n",
       "       [0.66666667, 0.33859263],\n",
       "       [0.66666667, 0.34302123],\n",
       "       [0.66666667, 0.38686236],\n",
       "       [0.66666667, 0.42094849],\n",
       "       [0.66666667, 0.58263868],\n",
       "       [0.66666667, 0.77766214],\n",
       "       [0.69230769, 0.        ],\n",
       "       [0.69230769, 0.        ],\n",
       "       [0.69230769, 0.02250131],\n",
       "       [0.69230769, 0.11049357],\n",
       "       [0.69230769, 0.36288149],\n",
       "       [0.71794872, 0.04009292],\n",
       "       [0.71794872, 0.24613152],\n",
       "       [0.71794872, 0.36865477],\n",
       "       [0.71794872, 0.41930588],\n",
       "       [0.71794872, 0.6498447 ],\n",
       "       [0.71794872, 0.7260448 ],\n",
       "       [0.71794872, 0.74921443],\n",
       "       [0.71794872, 0.98495484],\n",
       "       [0.71794872, 1.        ],\n",
       "       [0.74358974, 0.09649718],\n",
       "       [0.74358974, 0.11829394],\n",
       "       [0.74358974, 0.27399144],\n",
       "       [0.74358974, 0.27564814],\n",
       "       [0.74358974, 0.30626385],\n",
       "       [0.74358974, 0.36214272],\n",
       "       [0.74358974, 0.36285129],\n",
       "       [0.74358974, 0.43263798],\n",
       "       [0.74358974, 0.89424101],\n",
       "       [0.76923077, 0.19786984],\n",
       "       [0.76923077, 0.34318026],\n",
       "       [0.76923077, 0.42691099],\n",
       "       [0.76923077, 0.64719358],\n",
       "       [0.79487179, 0.1878451 ],\n",
       "       [0.79487179, 0.28133687],\n",
       "       [0.79487179, 0.59716248],\n",
       "       [0.79487179, 0.61554922],\n",
       "       [0.79487179, 0.64292199],\n",
       "       [0.82051282, 0.        ],\n",
       "       [0.82051282, 0.06170247],\n",
       "       [0.82051282, 0.30497151],\n",
       "       [0.82051282, 0.46384753],\n",
       "       [0.82051282, 0.50160335],\n",
       "       [0.82051282, 0.63033671],\n",
       "       [0.82051282, 0.6333381 ],\n",
       "       [0.82051282, 0.68934982],\n",
       "       [0.84615385, 0.51139257],\n",
       "       [0.84615385, 0.56200543],\n",
       "       [0.84615385, 0.59694306],\n",
       "       [0.87179487, 0.        ],\n",
       "       [0.87179487, 0.48666891],\n",
       "       [0.8974359 , 0.06134617],\n",
       "       [0.8974359 , 0.57012587],\n",
       "       [0.92307692, 0.35380286],\n",
       "       [0.94871795, 0.        ],\n",
       "       [0.94871795, 0.85178885],\n",
       "       [0.94871795, 0.893311  ],\n",
       "       [0.97435897, 0.37298474],\n",
       "       [1.        , 0.65013658]])"
      ]
     },
     "execution_count": 266,
     "metadata": {},
     "output_type": "execute_result"
    }
   ],
   "source": [
    "#escalado de datos (de 0 a 1) para evitar sesgo \n",
    "escalador = preprocessing.MinMaxScaler()\n",
    "data = escalador.fit_transform(data)\n",
    "data"
   ]
  },
  {
   "cell_type": "code",
   "execution_count": 242,
   "id": "3466e421",
   "metadata": {},
   "outputs": [
    {
     "data": {
      "text/plain": [
       "KNeighborsClassifier(n_neighbors=3)"
      ]
     },
     "execution_count": 242,
     "metadata": {},
     "output_type": "execute_result"
    }
   ],
   "source": [
    "#creaccion del modelo \n",
    "knn = KNeighborsClassifier(n_neighbors=3)\n",
    "knn.fit(data, clase)"
   ]
  },
  {
   "cell_type": "code",
   "execution_count": 233,
   "id": "550597c5",
   "metadata": {},
   "outputs": [],
   "source": [
    "#solicitante = {'edad': [53],\n",
    "#              'credito': [350000]}\n",
    "#solicitante = pd.DataFrame(solicitante)\n",
    "#Escalar los datos del nuevo solicitante\n",
    "#solicitante = escalador.fit_transform(solicitante)"
   ]
  },
  {
   "cell_type": "code",
   "execution_count": 258,
   "id": "035123bc",
   "metadata": {},
   "outputs": [],
   "source": [
    "edad = 53\n",
    "monto = 350000\n",
    "#Escalar los datos del solicitante\n",
    "solicitante = escalador.transform([[edad, monto]])"
   ]
  },
  {
   "cell_type": "code",
   "execution_count": 259,
   "id": "91c0497b",
   "metadata": {},
   "outputs": [
    {
     "name": "stdout",
     "output_type": "stream",
     "text": [
      "Clase: [0]\n",
      "Probabilidades por clase [[0.66666667 0.33333333]]\n"
     ]
    }
   ],
   "source": [
    "#obtener clase y probabilidades\n",
    "print(\"Clase:\", knn.predict(solicitante))\n",
    "print(\"Probabilidades por clase\",\n",
    "      knn.predict_proba(solicitante))"
   ]
  },
  {
   "cell_type": "code",
   "execution_count": 264,
   "id": "1306171b",
   "metadata": {
    "scrolled": false
   },
   "outputs": [
    {
     "data": {
      "image/png": "[encoded data removed]",
      "text/plain": [
       "<Figure size 432x288 with 1 Axes>"
      ]
     },
     "metadata": {
      "needs_background": "light"
     },
     "output_type": "display_data"
    }
   ],
   "source": [
    "plt.scatter(df_clientes_cumplieron[\"edad\"], df_clientes_cumplieron[\"credito\"],\n",
    "            label=\"Sí pagó (Clase: 1)\")\n",
    "plt.scatter(df_clientes_morosos[\"edad\"], df_clientes_morosos[\"credito\"],\n",
    "         label=\"No pagó (Clase: 0)\")\n",
    "#plt.scatter(solicitante[\"edad\"], solicitante[\"credito\"], marker=\"X\", s=150, color=\"red\", label=\"Solicitante\")\n",
    "plt.scatter(edad, monto, marker=\"X\", color=\"red\", label=\"Solicitante\", s=150) \n",
    "plt.ylabel(\"Monto del crédito\")\n",
    "plt.xlabel(\"Edad\")\n",
    "plt.legend(bbox_to_anchor=(1, 0.3))\n",
    "plt.show()"
   ]
  }
 ],
 "metadata": {
  "kernelspec": {
   "display_name": "Python 3",
   "language": "python",
   "name": "python3"
  },
  "language_info": {
   "codemirror_mode": {
    "name": "ipython",
    "version": 3
   },
   "file_extension": ".py",
   "mimetype": "text/x-python",
   "name": "python",
   "nbconvert_exporter": "python",
   "pygments_lexer": "ipython3",
   "version": "3.9.4"
  }
 },
 "nbformat": 4,
 "nbformat_minor": 5
}
